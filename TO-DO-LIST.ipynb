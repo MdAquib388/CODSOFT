{
 "cells": [
  {
   "cell_type": "code",
   "execution_count": 3,
   "id": "507269a8-57f3-4b8e-ad03-41efe03f6bc0",
   "metadata": {},
   "outputs": [
    {
     "name": "stdout",
     "output_type": "stream",
     "text": [
      "\n",
      "===== To-Do List Menu =====\n",
      "1. Add Task\n",
      "2. View Tasks\n",
      "3. Update Task\n",
      "4. Delete Task\n",
      "5. Exit\n"
     ]
    },
    {
     "name": "stdin",
     "output_type": "stream",
     "text": [
      "Enter your choice (1-5):  1\n",
      "Enter the task:  Study\n"
     ]
    },
    {
     "name": "stdout",
     "output_type": "stream",
     "text": [
      "Task \"Study\" added successfully.\n",
      "\n",
      "===== To-Do List Menu =====\n",
      "1. Add Task\n",
      "2. View Tasks\n",
      "3. Update Task\n",
      "4. Delete Task\n",
      "5. Exit\n"
     ]
    },
    {
     "name": "stdin",
     "output_type": "stream",
     "text": [
      "Enter your choice (1-5):  2\n"
     ]
    },
    {
     "name": "stdout",
     "output_type": "stream",
     "text": [
      "\n",
      "===== Tasks =====\n",
      "1. Study\n",
      "\n",
      "===== To-Do List Menu =====\n",
      "1. Add Task\n",
      "2. View Tasks\n",
      "3. Update Task\n",
      "4. Delete Task\n",
      "5. Exit\n"
     ]
    },
    {
     "name": "stdin",
     "output_type": "stream",
     "text": [
      "Enter your choice (1-5):  5\n"
     ]
    },
    {
     "name": "stdout",
     "output_type": "stream",
     "text": [
      "Exiting the To-Do List application. Goodbye!\n"
     ]
    }
   ],
   "source": [
    "class ToDoList:\n",
    "    def __init__(self):\n",
    "        self.tasks = []\n",
    "\n",
    "    def add_task(self, task):\n",
    "        self.tasks.append(task)\n",
    "        print(f'Task \"{task}\" added successfully.')\n",
    "\n",
    "    def view_tasks(self):\n",
    "        if not self.tasks:\n",
    "            print(\"No tasks available.\")\n",
    "        else:\n",
    "            print(\"\\n===== Tasks =====\")\n",
    "            for index, task in enumerate(self.tasks, start=1):\n",
    "                print(f\"{index}. {task}\")\n",
    "\n",
    "    def update_task(self, index, new_task):\n",
    "        if 1 <= index <= len(self.tasks):\n",
    "            self.tasks[index - 1] = new_task\n",
    "            print(f'Task #{index} updated successfully.')\n",
    "        else:\n",
    "            print(\"Invalid task index.\")\n",
    "\n",
    "    def delete_task(self, index):\n",
    "        if 1 <= index <= len(self.tasks):\n",
    "            del self.tasks[index - 1]\n",
    "            print(f'Task #{index} deleted successfully.')\n",
    "        else:\n",
    "            print(\"Invalid task index.\")\n",
    "\n",
    "\n",
    "def main():\n",
    "    todo_list = ToDoList()\n",
    "\n",
    "    while True:\n",
    "        print(\"\\n===== To-Do List Menu =====\")\n",
    "        print(\"1. Add Task\")\n",
    "        print(\"2. View Tasks\")\n",
    "        print(\"3. Update Task\")\n",
    "        print(\"4. Delete Task\")\n",
    "        print(\"5. Exit\")\n",
    "\n",
    "        choice = input(\"Enter your choice (1-5): \")\n",
    "\n",
    "        if choice == \"1\":\n",
    "            task = input(\"Enter the task: \")\n",
    "            todo_list.add_task(task)\n",
    "        elif choice == \"2\":\n",
    "            todo_list.view_tasks()\n",
    "        elif choice == \"3\":\n",
    "            index = int(input(\"Enter the task index to update: \"))\n",
    "            new_task = input(\"Enter the new task: \")\n",
    "            todo_list.update_task(index, new_task)\n",
    "        elif choice == \"4\":\n",
    "            index = int(input(\"Enter the task index to delete: \"))\n",
    "            todo_list.delete_task(index)\n",
    "        elif choice == \"5\":\n",
    "            print(\"Exiting the To-Do List application. Goodbye!\")\n",
    "            break\n",
    "        else:\n",
    "            print(\"Invalid choice. Please enter a number between 1 and 5.\")\n",
    "\n",
    "\n",
    "if __name__ == \"__main__\":\n",
    "    main()\n"
   ]
  },
  {
   "cell_type": "code",
   "execution_count": null,
   "id": "7a67137a-332b-4c97-a73b-ebd004618f26",
   "metadata": {},
   "outputs": [],
   "source": []
  }
 ],
 "metadata": {
  "kernelspec": {
   "display_name": "Python 3 (ipykernel)",
   "language": "python",
   "name": "python3"
  },
  "language_info": {
   "codemirror_mode": {
    "name": "ipython",
    "version": 3
   },
   "file_extension": ".py",
   "mimetype": "text/x-python",
   "name": "python",
   "nbconvert_exporter": "python",
   "pygments_lexer": "ipython3",
   "version": "3.11.5"
  }
 },
 "nbformat": 4,
 "nbformat_minor": 5
}
