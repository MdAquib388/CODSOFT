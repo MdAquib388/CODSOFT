{
 "cells": [
  {
   "cell_type": "code",
   "execution_count": 1,
   "id": "e9db7f0b-889c-47d0-9c1a-cd843068032c",
   "metadata": {},
   "outputs": [
    {
     "name": "stdout",
     "output_type": "stream",
     "text": [
      "\n",
      "===== Contact Book Menu =====\n",
      "1. Add Contact\n",
      "2. View Contact List\n",
      "3. Search Contact\n",
      "4. Update Contact\n",
      "5. Delete Contact\n",
      "6. Exit\n"
     ]
    },
    {
     "name": "stdin",
     "output_type": "stream",
     "text": [
      "Enter your choice (1-6):  1\n",
      "Enter name:  Md Aquib\n",
      "Enter phone number:  7903667251\n",
      "Enter email:  mdaquib.official@gmail.com\n",
      "Enter address:  Punjab\n"
     ]
    },
    {
     "name": "stdout",
     "output_type": "stream",
     "text": [
      "Contact added successfully: Md Aquib\n",
      "\n",
      "===== Contact Book Menu =====\n",
      "1. Add Contact\n",
      "2. View Contact List\n",
      "3. Search Contact\n",
      "4. Update Contact\n",
      "5. Delete Contact\n",
      "6. Exit\n"
     ]
    },
    {
     "name": "stdin",
     "output_type": "stream",
     "text": [
      "Enter your choice (1-6):  2\n"
     ]
    },
    {
     "name": "stdout",
     "output_type": "stream",
     "text": [
      "\n",
      "===== Contact List =====\n",
      "Name: Md Aquib, Phone: 7903667251\n",
      "\n",
      "===== Contact Book Menu =====\n",
      "1. Add Contact\n",
      "2. View Contact List\n",
      "3. Search Contact\n",
      "4. Update Contact\n",
      "5. Delete Contact\n",
      "6. Exit\n"
     ]
    },
    {
     "name": "stdin",
     "output_type": "stream",
     "text": [
      "Enter your choice (1-6):  6\n"
     ]
    },
    {
     "name": "stdout",
     "output_type": "stream",
     "text": [
      "Exiting the Contact Book application. Goodbye!\n"
     ]
    }
   ],
   "source": [
    "class ContactBook:\n",
    "    def __init__(self):\n",
    "        self.contacts = []\n",
    "\n",
    "    def add_contact(self, name, phone_number, email, address):\n",
    "        contact = {\n",
    "            'name': name,\n",
    "            'phone_number': phone_number,\n",
    "            'email': email,\n",
    "            'address': address\n",
    "        }\n",
    "        self.contacts.append(contact)\n",
    "        print(f\"Contact added successfully: {name}\")\n",
    "\n",
    "    def view_contact_list(self):\n",
    "        if not self.contacts:\n",
    "            print(\"Contact list is empty.\")\n",
    "        else:\n",
    "            print(\"\\n===== Contact List =====\")\n",
    "            for contact in self.contacts:\n",
    "                print(f\"Name: {contact['name']}, Phone: {contact['phone_number']}\")\n",
    "\n",
    "    def search_contact(self, keyword):\n",
    "        results = [contact for contact in self.contacts if keyword.lower() in contact['name'].lower() or keyword in contact['phone_number']]\n",
    "        if not results:\n",
    "            print(f\"No contacts found for '{keyword}'.\")\n",
    "        else:\n",
    "            print(f\"\\n===== Search Results for '{keyword}' =====\")\n",
    "            for result in results:\n",
    "                print(f\"Name: {result['name']}, Phone: {result['phone_number']}\")\n",
    "\n",
    "    def update_contact(self, name, new_phone_number, new_email, new_address):\n",
    "        for contact in self.contacts:\n",
    "            if contact['name'].lower() == name.lower():\n",
    "                contact['phone_number'] = new_phone_number\n",
    "                contact['email'] = new_email\n",
    "                contact['address'] = new_address\n",
    "                print(f\"Contact updated successfully: {name}\")\n",
    "                return\n",
    "        print(f\"No contact found with the name: {name}\")\n",
    "\n",
    "    def delete_contact(self, name):\n",
    "        for contact in self.contacts:\n",
    "            if contact['name'].lower() == name.lower():\n",
    "                self.contacts.remove(contact)\n",
    "                print(f\"Contact deleted successfully: {name}\")\n",
    "                return\n",
    "        print(f\"No contact found with the name: {name}\")\n",
    "\n",
    "def contact_book_app():\n",
    "    contact_book = ContactBook()\n",
    "\n",
    "    while True:\n",
    "        print(\"\\n===== Contact Book Menu =====\")\n",
    "        print(\"1. Add Contact\")\n",
    "        print(\"2. View Contact List\")\n",
    "        print(\"3. Search Contact\")\n",
    "        print(\"4. Update Contact\")\n",
    "        print(\"5. Delete Contact\")\n",
    "        print(\"6. Exit\")\n",
    "\n",
    "        choice = input(\"Enter your choice (1-6): \")\n",
    "\n",
    "        if choice == \"1\":\n",
    "            name = input(\"Enter name: \")\n",
    "            phone_number = input(\"Enter phone number: \")\n",
    "            email = input(\"Enter email: \")\n",
    "            address = input(\"Enter address: \")\n",
    "            contact_book.add_contact(name, phone_number, email, address)\n",
    "        elif choice == \"2\":\n",
    "            contact_book.view_contact_list()\n",
    "        elif choice == \"3\":\n",
    "            keyword = input(\"Enter name or phone number to search: \")\n",
    "            contact_book.search_contact(keyword)\n",
    "        elif choice == \"4\":\n",
    "            name = input(\"Enter the name of the contact to update: \")\n",
    "            new_phone_number = input(\"Enter the new phone number: \")\n",
    "            new_email = input(\"Enter the new email: \")\n",
    "            new_address = input(\"Enter the new address: \")\n",
    "            contact_book.update_contact(name, new_phone_number, new_email, new_address)\n",
    "        elif choice == \"5\":\n",
    "            name = input(\"Enter the name of the contact to delete: \")\n",
    "            contact_book.delete_contact(name)\n",
    "        elif choice == \"6\":\n",
    "            print(\"Exiting the Contact Book application. Goodbye!\")\n",
    "            break\n",
    "        else:\n",
    "            print(\"Invalid choice. Please enter a number between 1 and 6.\")\n",
    "\n",
    "if __name__ == \"__main__\":\n",
    "    contact_book_app()\n"
   ]
  },
  {
   "cell_type": "code",
   "execution_count": null,
   "id": "1aa0afae-b73c-4f68-b3ec-c4f582e44db3",
   "metadata": {},
   "outputs": [],
   "source": []
  }
 ],
 "metadata": {
  "kernelspec": {
   "display_name": "Python 3 (ipykernel)",
   "language": "python",
   "name": "python3"
  },
  "language_info": {
   "codemirror_mode": {
    "name": "ipython",
    "version": 3
   },
   "file_extension": ".py",
   "mimetype": "text/x-python",
   "name": "python",
   "nbconvert_exporter": "python",
   "pygments_lexer": "ipython3",
   "version": "3.11.5"
  }
 },
 "nbformat": 4,
 "nbformat_minor": 5
}
